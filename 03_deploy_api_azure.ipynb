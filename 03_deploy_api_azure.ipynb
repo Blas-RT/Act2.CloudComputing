{
 "cells": [
  {
   "cell_type": "markdown",
   "metadata": {},
   "source": [
    "### Step 1: Set up the workspace"
   ]
  },
  {
   "cell_type": "code",
   "execution_count": 24,
   "metadata": {},
   "outputs": [
    {
     "name": "stderr",
     "output_type": "stream",
     "text": [
      "UserWarning: The resource group doesn't exist or was not provided. AzureML SDK is creating a resource group=bank2 in location=centralindia using subscription=f4f81290-9ab9-4ae8-8996-8eaf985e6f3c.\n"
     ]
    },
    {
     "name": "stdout",
     "output_type": "stream",
     "text": [
      "Deploying KeyVault with name bankkeyvaulte46b5fa6d588.\n",
      "Deploying StorageAccount with name bankstorage7450f7ff86d64.\n",
      "Deploying AppInsights with name bankinsightsb1b53a8ac574.\n",
      "Deployed AppInsights with name bankinsightsb1b53a8ac574. Took 6.4 seconds.\n",
      "Deployed KeyVault with name bankkeyvaulte46b5fa6d588. Took 25.64 seconds.\n",
      "Deployed StorageAccount with name bankstorage7450f7ff86d64. Took 27.14 seconds.\n",
      "Deploying Workspace with name bank.\n",
      "Deployed Workspace with name bank. Took 41.88 seconds.\n",
      "Registering model model\n"
     ]
    }
   ],
   "source": [
    "import json\n",
    "\n",
    "#GETTING MY ID:\n",
    "id = open('id_confidential.json', 'r')\n",
    "mi = json.load(id)\n",
    "my_id = mi[\"azure_id\"]\n",
    "\n",
    "from azureml.core import Workspace\n",
    "\n",
    "ws = Workspace.create(name=\"bank\",\n",
    "                      subscription_id = my_id,\n",
    "                      resource_group = \"bank2\",\n",
    "                      location = \"centralindia\")\n",
    "\n",
    "from azureml.core.model import Model\n",
    "\n",
    "registered_model = Model.register(model_path=\"model.pkl\",\n",
    "                                  model_name=\"model\",\n",
    "                                  workspace=ws)"
   ]
  },
  {
   "cell_type": "code",
   "execution_count": null,
   "metadata": {},
   "outputs": [],
   "source": [
    "scorepy = \"\"\"import json\n",
    "import joblib\n",
    "import numpy as np\n",
    "import pandas as pd\n",
    "from azureml.core.model import Model\n",
    "\n",
    "def init():\n",
    "    global model\n",
    "    model_path = Model.get_model_path('bank_model')\n",
    "    model = joblib.load(model_path)\n",
    "\n",
    "def run(raw_data):\n",
    "    try:\n",
    "        data = json.loads(raw_data)['data'][0]\n",
    "        data = {key: data[key] for key in [\" Persistent EPS in the Last Four Seasons\", \" Debt ratio %\", \" Net worth/Assets\"]}\n",
    "        data = pd.DataFrame(data)\n",
    "\n",
    "        result = model.predict(data)\n",
    "\n",
    "        return json.dumps({\"result\": result.tolist()})\n",
    "    except Exception as e:\n",
    "        return json.dumps({\"error\": str(e)})\n",
    "\"\"\"\n",
    "\n",
    "with open(\"score.py\", \"w\") as file_score:\n",
    "    file_score.write(scorepy)"
   ]
  },
  {
   "cell_type": "markdown",
   "metadata": {},
   "source": [
    "### Step 2: Inference configuration"
   ]
  },
  {
   "cell_type": "code",
   "execution_count": 26,
   "metadata": {},
   "outputs": [
    {
     "name": "stderr",
     "output_type": "stream",
     "text": [
      "C:\\Users\\blast\\AppData\\Local\\Temp\\ipykernel_5296\\778469531.py:18: FutureWarning: azureml.core.model:\n",
      "To leverage new model deployment capabilities, AzureML recommends using CLI/SDK v2 to deploy models as online endpoint, \n",
      "please refer to respective documentations \n",
      "https://docs.microsoft.com/azure/machine-learning/how-to-deploy-managed-online-endpoints /\n",
      "https://docs.microsoft.com/azure/machine-learning/how-to-attach-kubernetes-anywhere \n",
      "For more information on migration, see https://aka.ms/acimoemigration \n",
      "To disable CLI/SDK v1 deprecation warning set AZUREML_LOG_DEPRECATION_WARNING_ENABLED to 'False'\n",
      "  service = Model.deploy(workspace=ws,\n"
     ]
    }
   ],
   "source": [
    "from azureml.core.environment import Environment\n",
    "virtual_env = Environment(\"env_bankrupt\")\n",
    "\n",
    "from azureml.core.conda_dependencies import CondaDependencies\n",
    "virtual_env.python.conda_dependencies = CondaDependencies.create(conda_packages=['pandas', 'scikit-learn'])\n",
    "\n",
    "\n",
    "from azureml.core.model import InferenceConfig\n",
    "from azureml.core.webservice import AciWebservice\n",
    "\n",
    "inference_config = InferenceConfig(\n",
    "                                environment=virtual_env,\n",
    "                                entry_script=\"score.py\",\n",
    "                                )\n",
    "\n",
    "aci_config = AciWebservice.deploy_configuration(cpu_cores=2, memory_gb=4)\n",
    "\n",
    "service = Model.deploy(workspace=ws,\n",
    "                       name='service',\n",
    "                       models=[registered_model],\n",
    "                       inference_config=inference_config,\n",
    "                       deployment_config=aci_config,\n",
    "                       overwrite=True,\n",
    "                       )"
   ]
  },
  {
   "cell_type": "code",
   "execution_count": 27,
   "metadata": {},
   "outputs": [
    {
     "name": "stderr",
     "output_type": "stream",
     "text": [
      "Service deployment polling reached non-successful terminal state, current service state: Failed\n",
      "Operation ID: 05f5ed91-fec3-4e5f-8dc7-018c15407324\n",
      "More information can be found using '.get_logs()'\n",
      "Error:\n",
      "{\n",
      "  \"code\": \"AciDeploymentFailed\",\n",
      "  \"statusCode\": 400,\n",
      "  \"message\": \"Aci Deployment failed with exception: Your container application crashed. This may be caused by errors in your scoring file's init() function.\n",
      "\t1. Please check the logs for your container instance: service. From the AML SDK, you can run print(service.get_logs()) if you have service object to fetch the logs.\n",
      "\t2. You can interactively debug your scoring file locally. Please refer to https://docs.microsoft.com/azure/machine-learning/how-to-debug-visual-studio-code#debug-and-troubleshoot-deployments for more information.\n",
      "\t3. You can also try to run image 7a963f5a21854f4b9da93e0803c40845.azurecr.io/azureml/azureml_6ade10047ac278b9562561a856ae1185 locally. Please refer to https://aka.ms/debugimage#service-launch-fails for more information.\",\n",
      "  \"details\": [\n",
      "    {\n",
      "      \"code\": \"CrashLoopBackOff\",\n",
      "      \"message\": \"Your container application crashed. This may be caused by errors in your scoring file's init() function.\n",
      "\t1. Please check the logs for your container instance: service. From the AML SDK, you can run print(service.get_logs()) if you have service object to fetch the logs.\n",
      "\t2. You can interactively debug your scoring file locally. Please refer to https://docs.microsoft.com/azure/machine-learning/how-to-debug-visual-studio-code#debug-and-troubleshoot-deployments for more information.\n",
      "\t3. You can also try to run image 7a963f5a21854f4b9da93e0803c40845.azurecr.io/azureml/azureml_6ade10047ac278b9562561a856ae1185 locally. Please refer to https://aka.ms/debugimage#service-launch-fails for more information.\"\n",
      "    },\n",
      "    {\n",
      "      \"code\": \"AciDeploymentFailed\",\n",
      "      \"message\": \"Your container application crashed. Please follow the steps to debug:\n",
      "\t1. From the AML SDK, you can run print(service.get_logs()) if you have service object to fetch the logs. Please refer to https://aka.ms/debugimage#dockerlog for more information.\n",
      "\t2. If your container application crashed. This may be caused by errors in your scoring file's init() function. You can try debugging locally first. Please refer to https://aka.ms/debugimage#debug-locally for more information.\n",
      "\t3. You can also interactively debug your scoring file locally. Please refer to https://docs.microsoft.com/azure/machine-learning/how-to-debug-visual-studio-code#debug-and-troubleshoot-deployments for more information.\n",
      "\t4. View the diagnostic events to check status of container, it may help you to debug the issue.\n",
      "\"RestartCount\": 3\n",
      "\"CurrentState\": {\"state\":\"Waiting\",\"startTime\":null,\"exitCode\":null,\"finishTime\":null,\"detailStatus\":\"CrashLoopBackOff: Back-off restarting failed\"}\n",
      "\"PreviousState\": {\"state\":\"Terminated\",\"startTime\":\"2025-04-05T04:07:24.256Z\",\"exitCode\":111,\"finishTime\":\"2025-04-05T04:07:31.838Z\",\"detailStatus\":\"Error\"}\n",
      "\"Events\":\n",
      "{\"count\":1,\"firstTimestamp\":\"2025-04-05T04:04:58Z\",\"lastTimestamp\":\"2025-04-05T04:04:58Z\",\"name\":\"Pulling\",\"message\":\"pulling image \"7a963f5a21854f4b9da93e0803c40845.azurecr.io/azureml/azureml_6ade10047ac278b9562561a856ae1185@sha256:fa05be79ea9f53de95679b5da22e2caeaeabf3dde4b3649d89ca0cd6d3f2c64f\"\",\"type\":\"Normal\"}\n",
      "{\"count\":1,\"firstTimestamp\":\"2025-04-05T04:05:33Z\",\"lastTimestamp\":\"2025-04-05T04:05:33Z\",\"name\":\"Pulled\",\"message\":\"Successfully pulled image \"7a963f5a21854f4b9da93e0803c40845.azurecr.io/azureml/azureml_6ade10047ac278b9562561a856ae1185@sha256:fa05be79ea9f53de95679b5da22e2caeaeabf3dde4b3649d89ca0cd6d3f2c64f\"\",\"type\":\"Normal\"}\n",
      "{\"count\":4,\"firstTimestamp\":\"2025-04-05T04:05:53Z\",\"lastTimestamp\":\"2025-04-05T04:07:24Z\",\"name\":\"Started\",\"message\":\"Started container\",\"type\":\"Normal\"}\n",
      "{\"count\":3,\"firstTimestamp\":\"2025-04-05T04:06:01Z\",\"lastTimestamp\":\"2025-04-05T04:06:52Z\",\"name\":\"Killing\",\"message\":\"Container service terminated with ExitCode 111.\",\"type\":\"Normal\"}\n",
      "\"\n",
      "    }\n",
      "  ]\n",
      "}\n",
      "\n"
     ]
    },
    {
     "ename": "WebserviceException",
     "evalue": "WebserviceException:\n\tMessage: Service deployment polling reached non-successful terminal state, current service state: Failed\nOperation ID: 05f5ed91-fec3-4e5f-8dc7-018c15407324\nMore information can be found using '.get_logs()'\nError:\n{\n  \"code\": \"AciDeploymentFailed\",\n  \"statusCode\": 400,\n  \"message\": \"Aci Deployment failed with exception: Your container application crashed. This may be caused by errors in your scoring file's init() function.\n\t1. Please check the logs for your container instance: service. From the AML SDK, you can run print(service.get_logs()) if you have service object to fetch the logs.\n\t2. You can interactively debug your scoring file locally. Please refer to https://docs.microsoft.com/azure/machine-learning/how-to-debug-visual-studio-code#debug-and-troubleshoot-deployments for more information.\n\t3. You can also try to run image 7a963f5a21854f4b9da93e0803c40845.azurecr.io/azureml/azureml_6ade10047ac278b9562561a856ae1185 locally. Please refer to https://aka.ms/debugimage#service-launch-fails for more information.\",\n  \"details\": [\n    {\n      \"code\": \"CrashLoopBackOff\",\n      \"message\": \"Your container application crashed. This may be caused by errors in your scoring file's init() function.\n\t1. Please check the logs for your container instance: service. From the AML SDK, you can run print(service.get_logs()) if you have service object to fetch the logs.\n\t2. You can interactively debug your scoring file locally. Please refer to https://docs.microsoft.com/azure/machine-learning/how-to-debug-visual-studio-code#debug-and-troubleshoot-deployments for more information.\n\t3. You can also try to run image 7a963f5a21854f4b9da93e0803c40845.azurecr.io/azureml/azureml_6ade10047ac278b9562561a856ae1185 locally. Please refer to https://aka.ms/debugimage#service-launch-fails for more information.\"\n    },\n    {\n      \"code\": \"AciDeploymentFailed\",\n      \"message\": \"Your container application crashed. Please follow the steps to debug:\n\t1. From the AML SDK, you can run print(service.get_logs()) if you have service object to fetch the logs. Please refer to https://aka.ms/debugimage#dockerlog for more information.\n\t2. If your container application crashed. This may be caused by errors in your scoring file's init() function. You can try debugging locally first. Please refer to https://aka.ms/debugimage#debug-locally for more information.\n\t3. You can also interactively debug your scoring file locally. Please refer to https://docs.microsoft.com/azure/machine-learning/how-to-debug-visual-studio-code#debug-and-troubleshoot-deployments for more information.\n\t4. View the diagnostic events to check status of container, it may help you to debug the issue.\n\"RestartCount\": 3\n\"CurrentState\": {\"state\":\"Waiting\",\"startTime\":null,\"exitCode\":null,\"finishTime\":null,\"detailStatus\":\"CrashLoopBackOff: Back-off restarting failed\"}\n\"PreviousState\": {\"state\":\"Terminated\",\"startTime\":\"2025-04-05T04:07:24.256Z\",\"exitCode\":111,\"finishTime\":\"2025-04-05T04:07:31.838Z\",\"detailStatus\":\"Error\"}\n\"Events\":\n{\"count\":1,\"firstTimestamp\":\"2025-04-05T04:04:58Z\",\"lastTimestamp\":\"2025-04-05T04:04:58Z\",\"name\":\"Pulling\",\"message\":\"pulling image \"7a963f5a21854f4b9da93e0803c40845.azurecr.io/azureml/azureml_6ade10047ac278b9562561a856ae1185@sha256:fa05be79ea9f53de95679b5da22e2caeaeabf3dde4b3649d89ca0cd6d3f2c64f\"\",\"type\":\"Normal\"}\n{\"count\":1,\"firstTimestamp\":\"2025-04-05T04:05:33Z\",\"lastTimestamp\":\"2025-04-05T04:05:33Z\",\"name\":\"Pulled\",\"message\":\"Successfully pulled image \"7a963f5a21854f4b9da93e0803c40845.azurecr.io/azureml/azureml_6ade10047ac278b9562561a856ae1185@sha256:fa05be79ea9f53de95679b5da22e2caeaeabf3dde4b3649d89ca0cd6d3f2c64f\"\",\"type\":\"Normal\"}\n{\"count\":4,\"firstTimestamp\":\"2025-04-05T04:05:53Z\",\"lastTimestamp\":\"2025-04-05T04:07:24Z\",\"name\":\"Started\",\"message\":\"Started container\",\"type\":\"Normal\"}\n{\"count\":3,\"firstTimestamp\":\"2025-04-05T04:06:01Z\",\"lastTimestamp\":\"2025-04-05T04:06:52Z\",\"name\":\"Killing\",\"message\":\"Container service terminated with ExitCode 111.\",\"type\":\"Normal\"}\n\"\n    }\n  ]\n}\n\tInnerException None\n\tErrorResponse \n{\n    \"error\": {\n        \"message\": \"Service deployment polling reached non-successful terminal state, current service state: Failed\\nOperation ID: 05f5ed91-fec3-4e5f-8dc7-018c15407324\\nMore information can be found using '.get_logs()'\\nError:\\n{\\n  \\\"code\\\": \\\"AciDeploymentFailed\\\",\\n  \\\"statusCode\\\": 400,\\n  \\\"message\\\": \\\"Aci Deployment failed with exception: Your container application crashed. This may be caused by errors in your scoring file's init() function.\\n\\t1. Please check the logs for your container instance: service. From the AML SDK, you can run print(service.get_logs()) if you have service object to fetch the logs.\\n\\t2. You can interactively debug your scoring file locally. Please refer to https://docs.microsoft.com/azure/machine-learning/how-to-debug-visual-studio-code#debug-and-troubleshoot-deployments for more information.\\n\\t3. You can also try to run image 7a963f5a21854f4b9da93e0803c40845.azurecr.io/azureml/azureml_6ade10047ac278b9562561a856ae1185 locally. Please refer to https://aka.ms/debugimage#service-launch-fails for more information.\\\",\\n  \\\"details\\\": [\\n    {\\n      \\\"code\\\": \\\"CrashLoopBackOff\\\",\\n      \\\"message\\\": \\\"Your container application crashed. This may be caused by errors in your scoring file's init() function.\\n\\t1. Please check the logs for your container instance: service. From the AML SDK, you can run print(service.get_logs()) if you have service object to fetch the logs.\\n\\t2. You can interactively debug your scoring file locally. Please refer to https://docs.microsoft.com/azure/machine-learning/how-to-debug-visual-studio-code#debug-and-troubleshoot-deployments for more information.\\n\\t3. You can also try to run image 7a963f5a21854f4b9da93e0803c40845.azurecr.io/azureml/azureml_6ade10047ac278b9562561a856ae1185 locally. Please refer to https://aka.ms/debugimage#service-launch-fails for more information.\\\"\\n    },\\n    {\\n      \\\"code\\\": \\\"AciDeploymentFailed\\\",\\n      \\\"message\\\": \\\"Your container application crashed. Please follow the steps to debug:\\n\\t1. From the AML SDK, you can run print(service.get_logs()) if you have service object to fetch the logs. Please refer to https://aka.ms/debugimage#dockerlog for more information.\\n\\t2. If your container application crashed. This may be caused by errors in your scoring file's init() function. You can try debugging locally first. Please refer to https://aka.ms/debugimage#debug-locally for more information.\\n\\t3. You can also interactively debug your scoring file locally. Please refer to https://docs.microsoft.com/azure/machine-learning/how-to-debug-visual-studio-code#debug-and-troubleshoot-deployments for more information.\\n\\t4. View the diagnostic events to check status of container, it may help you to debug the issue.\\n\\\"RestartCount\\\": 3\\n\\\"CurrentState\\\": {\\\"state\\\":\\\"Waiting\\\",\\\"startTime\\\":null,\\\"exitCode\\\":null,\\\"finishTime\\\":null,\\\"detailStatus\\\":\\\"CrashLoopBackOff: Back-off restarting failed\\\"}\\n\\\"PreviousState\\\": {\\\"state\\\":\\\"Terminated\\\",\\\"startTime\\\":\\\"2025-04-05T04:07:24.256Z\\\",\\\"exitCode\\\":111,\\\"finishTime\\\":\\\"2025-04-05T04:07:31.838Z\\\",\\\"detailStatus\\\":\\\"Error\\\"}\\n\\\"Events\\\":\\n{\\\"count\\\":1,\\\"firstTimestamp\\\":\\\"2025-04-05T04:04:58Z\\\",\\\"lastTimestamp\\\":\\\"2025-04-05T04:04:58Z\\\",\\\"name\\\":\\\"Pulling\\\",\\\"message\\\":\\\"pulling image \\\"7a963f5a21854f4b9da93e0803c40845.azurecr.io/azureml/azureml_6ade10047ac278b9562561a856ae1185@sha256:fa05be79ea9f53de95679b5da22e2caeaeabf3dde4b3649d89ca0cd6d3f2c64f\\\"\\\",\\\"type\\\":\\\"Normal\\\"}\\n{\\\"count\\\":1,\\\"firstTimestamp\\\":\\\"2025-04-05T04:05:33Z\\\",\\\"lastTimestamp\\\":\\\"2025-04-05T04:05:33Z\\\",\\\"name\\\":\\\"Pulled\\\",\\\"message\\\":\\\"Successfully pulled image \\\"7a963f5a21854f4b9da93e0803c40845.azurecr.io/azureml/azureml_6ade10047ac278b9562561a856ae1185@sha256:fa05be79ea9f53de95679b5da22e2caeaeabf3dde4b3649d89ca0cd6d3f2c64f\\\"\\\",\\\"type\\\":\\\"Normal\\\"}\\n{\\\"count\\\":4,\\\"firstTimestamp\\\":\\\"2025-04-05T04:05:53Z\\\",\\\"lastTimestamp\\\":\\\"2025-04-05T04:07:24Z\\\",\\\"name\\\":\\\"Started\\\",\\\"message\\\":\\\"Started container\\\",\\\"type\\\":\\\"Normal\\\"}\\n{\\\"count\\\":3,\\\"firstTimestamp\\\":\\\"2025-04-05T04:06:01Z\\\",\\\"lastTimestamp\\\":\\\"2025-04-05T04:06:52Z\\\",\\\"name\\\":\\\"Killing\\\",\\\"message\\\":\\\"Container service terminated with ExitCode 111.\\\",\\\"type\\\":\\\"Normal\\\"}\\n\\\"\\n    }\\n  ]\\n}\"\n    }\n}",
     "output_type": "error",
     "traceback": [
      "\u001b[31m---------------------------------------------------------------------------\u001b[39m",
      "\u001b[31mWebserviceException\u001b[39m                       Traceback (most recent call last)",
      "\u001b[36mCell\u001b[39m\u001b[36m \u001b[39m\u001b[32mIn[27]\u001b[39m\u001b[32m, line 1\u001b[39m\n\u001b[32m----> \u001b[39m\u001b[32m1\u001b[39m \u001b[43mservice\u001b[49m\u001b[43m.\u001b[49m\u001b[43mwait_for_deployment\u001b[49m\u001b[43m(\u001b[49m\u001b[43m)\u001b[49m\n",
      "\u001b[36mFile \u001b[39m\u001b[32mc:\\Users\\blast\\Documents\\Blas\\TEC\\Universidad TEC\\8vo Semestre\\Desarrollo de proyectos\\Computo en la Nube (Jesus A)\\Clase 2\\Intento 2\\Act2.CloudComputing\\.venv\\Lib\\site-packages\\azureml\\core\\webservice\\webservice.py:910\u001b[39m, in \u001b[36mWebservice.wait_for_deployment\u001b[39m\u001b[34m(self, show_output, timeout_sec)\u001b[39m\n\u001b[32m    907\u001b[39m         \u001b[38;5;28;01mif\u001b[39;00m \u001b[38;5;129;01mnot\u001b[39;00m logs_response:\n\u001b[32m    908\u001b[39m             logs_response = \u001b[33m'\u001b[39m\u001b[33mCurrent sub-operation type not known, more logs unavailable.\u001b[39m\u001b[33m'\u001b[39m\n\u001b[32m--> \u001b[39m\u001b[32m910\u001b[39m         \u001b[38;5;28;01mraise\u001b[39;00m WebserviceException(\u001b[33m'\u001b[39m\u001b[33mService deployment polling reached non-successful terminal state, current \u001b[39m\u001b[33m'\u001b[39m\n\u001b[32m    911\u001b[39m                                   \u001b[33m'\u001b[39m\u001b[33mservice state: \u001b[39m\u001b[38;5;132;01m{}\u001b[39;00m\u001b[38;5;130;01m\\n\u001b[39;00m\u001b[33m'\u001b[39m\n\u001b[32m    912\u001b[39m                                   \u001b[33m'\u001b[39m\u001b[33mOperation ID: \u001b[39m\u001b[38;5;132;01m{}\u001b[39;00m\u001b[38;5;130;01m\\n\u001b[39;00m\u001b[33m'\u001b[39m\n\u001b[32m    913\u001b[39m                                   \u001b[33m'\u001b[39m\u001b[38;5;132;01m{}\u001b[39;00m\u001b[38;5;130;01m\\n\u001b[39;00m\u001b[33m'\u001b[39m\n\u001b[32m    914\u001b[39m                                   \u001b[33m'\u001b[39m\u001b[33mError:\u001b[39m\u001b[38;5;130;01m\\n\u001b[39;00m\u001b[33m'\u001b[39m\n\u001b[32m    915\u001b[39m                                   \u001b[33m'\u001b[39m\u001b[38;5;132;01m{}\u001b[39;00m\u001b[33m'\u001b[39m.format(\u001b[38;5;28mself\u001b[39m.state, \u001b[38;5;28mself\u001b[39m._operation_endpoint.split(\u001b[33m'\u001b[39m\u001b[33m/\u001b[39m\u001b[33m'\u001b[39m)[-\u001b[32m1\u001b[39m],\n\u001b[32m    916\u001b[39m                                               logs_response, format_error_response), logger=module_logger)\n\u001b[32m    917\u001b[39m     \u001b[38;5;28mprint\u001b[39m(\u001b[33m'\u001b[39m\u001b[38;5;132;01m{}\u001b[39;00m\u001b[33m service creation operation finished, operation \u001b[39m\u001b[33m\"\u001b[39m\u001b[38;5;132;01m{}\u001b[39;00m\u001b[33m\"\u001b[39m\u001b[33m'\u001b[39m.format(\u001b[38;5;28mself\u001b[39m._webservice_type,\n\u001b[32m    918\u001b[39m                                                                           operation_state))\n\u001b[32m    919\u001b[39m \u001b[38;5;28;01mexcept\u001b[39;00m WebserviceException \u001b[38;5;28;01mas\u001b[39;00m e:\n",
      "\u001b[31mWebserviceException\u001b[39m: WebserviceException:\n\tMessage: Service deployment polling reached non-successful terminal state, current service state: Failed\nOperation ID: 05f5ed91-fec3-4e5f-8dc7-018c15407324\nMore information can be found using '.get_logs()'\nError:\n{\n  \"code\": \"AciDeploymentFailed\",\n  \"statusCode\": 400,\n  \"message\": \"Aci Deployment failed with exception: Your container application crashed. This may be caused by errors in your scoring file's init() function.\n\t1. Please check the logs for your container instance: service. From the AML SDK, you can run print(service.get_logs()) if you have service object to fetch the logs.\n\t2. You can interactively debug your scoring file locally. Please refer to https://docs.microsoft.com/azure/machine-learning/how-to-debug-visual-studio-code#debug-and-troubleshoot-deployments for more information.\n\t3. You can also try to run image 7a963f5a21854f4b9da93e0803c40845.azurecr.io/azureml/azureml_6ade10047ac278b9562561a856ae1185 locally. Please refer to https://aka.ms/debugimage#service-launch-fails for more information.\",\n  \"details\": [\n    {\n      \"code\": \"CrashLoopBackOff\",\n      \"message\": \"Your container application crashed. This may be caused by errors in your scoring file's init() function.\n\t1. Please check the logs for your container instance: service. From the AML SDK, you can run print(service.get_logs()) if you have service object to fetch the logs.\n\t2. You can interactively debug your scoring file locally. Please refer to https://docs.microsoft.com/azure/machine-learning/how-to-debug-visual-studio-code#debug-and-troubleshoot-deployments for more information.\n\t3. You can also try to run image 7a963f5a21854f4b9da93e0803c40845.azurecr.io/azureml/azureml_6ade10047ac278b9562561a856ae1185 locally. Please refer to https://aka.ms/debugimage#service-launch-fails for more information.\"\n    },\n    {\n      \"code\": \"AciDeploymentFailed\",\n      \"message\": \"Your container application crashed. Please follow the steps to debug:\n\t1. From the AML SDK, you can run print(service.get_logs()) if you have service object to fetch the logs. Please refer to https://aka.ms/debugimage#dockerlog for more information.\n\t2. If your container application crashed. This may be caused by errors in your scoring file's init() function. You can try debugging locally first. Please refer to https://aka.ms/debugimage#debug-locally for more information.\n\t3. You can also interactively debug your scoring file locally. Please refer to https://docs.microsoft.com/azure/machine-learning/how-to-debug-visual-studio-code#debug-and-troubleshoot-deployments for more information.\n\t4. View the diagnostic events to check status of container, it may help you to debug the issue.\n\"RestartCount\": 3\n\"CurrentState\": {\"state\":\"Waiting\",\"startTime\":null,\"exitCode\":null,\"finishTime\":null,\"detailStatus\":\"CrashLoopBackOff: Back-off restarting failed\"}\n\"PreviousState\": {\"state\":\"Terminated\",\"startTime\":\"2025-04-05T04:07:24.256Z\",\"exitCode\":111,\"finishTime\":\"2025-04-05T04:07:31.838Z\",\"detailStatus\":\"Error\"}\n\"Events\":\n{\"count\":1,\"firstTimestamp\":\"2025-04-05T04:04:58Z\",\"lastTimestamp\":\"2025-04-05T04:04:58Z\",\"name\":\"Pulling\",\"message\":\"pulling image \"7a963f5a21854f4b9da93e0803c40845.azurecr.io/azureml/azureml_6ade10047ac278b9562561a856ae1185@sha256:fa05be79ea9f53de95679b5da22e2caeaeabf3dde4b3649d89ca0cd6d3f2c64f\"\",\"type\":\"Normal\"}\n{\"count\":1,\"firstTimestamp\":\"2025-04-05T04:05:33Z\",\"lastTimestamp\":\"2025-04-05T04:05:33Z\",\"name\":\"Pulled\",\"message\":\"Successfully pulled image \"7a963f5a21854f4b9da93e0803c40845.azurecr.io/azureml/azureml_6ade10047ac278b9562561a856ae1185@sha256:fa05be79ea9f53de95679b5da22e2caeaeabf3dde4b3649d89ca0cd6d3f2c64f\"\",\"type\":\"Normal\"}\n{\"count\":4,\"firstTimestamp\":\"2025-04-05T04:05:53Z\",\"lastTimestamp\":\"2025-04-05T04:07:24Z\",\"name\":\"Started\",\"message\":\"Started container\",\"type\":\"Normal\"}\n{\"count\":3,\"firstTimestamp\":\"2025-04-05T04:06:01Z\",\"lastTimestamp\":\"2025-04-05T04:06:52Z\",\"name\":\"Killing\",\"message\":\"Container service terminated with ExitCode 111.\",\"type\":\"Normal\"}\n\"\n    }\n  ]\n}\n\tInnerException None\n\tErrorResponse \n{\n    \"error\": {\n        \"message\": \"Service deployment polling reached non-successful terminal state, current service state: Failed\\nOperation ID: 05f5ed91-fec3-4e5f-8dc7-018c15407324\\nMore information can be found using '.get_logs()'\\nError:\\n{\\n  \\\"code\\\": \\\"AciDeploymentFailed\\\",\\n  \\\"statusCode\\\": 400,\\n  \\\"message\\\": \\\"Aci Deployment failed with exception: Your container application crashed. This may be caused by errors in your scoring file's init() function.\\n\\t1. Please check the logs for your container instance: service. From the AML SDK, you can run print(service.get_logs()) if you have service object to fetch the logs.\\n\\t2. You can interactively debug your scoring file locally. Please refer to https://docs.microsoft.com/azure/machine-learning/how-to-debug-visual-studio-code#debug-and-troubleshoot-deployments for more information.\\n\\t3. You can also try to run image 7a963f5a21854f4b9da93e0803c40845.azurecr.io/azureml/azureml_6ade10047ac278b9562561a856ae1185 locally. Please refer to https://aka.ms/debugimage#service-launch-fails for more information.\\\",\\n  \\\"details\\\": [\\n    {\\n      \\\"code\\\": \\\"CrashLoopBackOff\\\",\\n      \\\"message\\\": \\\"Your container application crashed. This may be caused by errors in your scoring file's init() function.\\n\\t1. Please check the logs for your container instance: service. From the AML SDK, you can run print(service.get_logs()) if you have service object to fetch the logs.\\n\\t2. You can interactively debug your scoring file locally. Please refer to https://docs.microsoft.com/azure/machine-learning/how-to-debug-visual-studio-code#debug-and-troubleshoot-deployments for more information.\\n\\t3. You can also try to run image 7a963f5a21854f4b9da93e0803c40845.azurecr.io/azureml/azureml_6ade10047ac278b9562561a856ae1185 locally. Please refer to https://aka.ms/debugimage#service-launch-fails for more information.\\\"\\n    },\\n    {\\n      \\\"code\\\": \\\"AciDeploymentFailed\\\",\\n      \\\"message\\\": \\\"Your container application crashed. Please follow the steps to debug:\\n\\t1. From the AML SDK, you can run print(service.get_logs()) if you have service object to fetch the logs. Please refer to https://aka.ms/debugimage#dockerlog for more information.\\n\\t2. If your container application crashed. This may be caused by errors in your scoring file's init() function. You can try debugging locally first. Please refer to https://aka.ms/debugimage#debug-locally for more information.\\n\\t3. You can also interactively debug your scoring file locally. Please refer to https://docs.microsoft.com/azure/machine-learning/how-to-debug-visual-studio-code#debug-and-troubleshoot-deployments for more information.\\n\\t4. View the diagnostic events to check status of container, it may help you to debug the issue.\\n\\\"RestartCount\\\": 3\\n\\\"CurrentState\\\": {\\\"state\\\":\\\"Waiting\\\",\\\"startTime\\\":null,\\\"exitCode\\\":null,\\\"finishTime\\\":null,\\\"detailStatus\\\":\\\"CrashLoopBackOff: Back-off restarting failed\\\"}\\n\\\"PreviousState\\\": {\\\"state\\\":\\\"Terminated\\\",\\\"startTime\\\":\\\"2025-04-05T04:07:24.256Z\\\",\\\"exitCode\\\":111,\\\"finishTime\\\":\\\"2025-04-05T04:07:31.838Z\\\",\\\"detailStatus\\\":\\\"Error\\\"}\\n\\\"Events\\\":\\n{\\\"count\\\":1,\\\"firstTimestamp\\\":\\\"2025-04-05T04:04:58Z\\\",\\\"lastTimestamp\\\":\\\"2025-04-05T04:04:58Z\\\",\\\"name\\\":\\\"Pulling\\\",\\\"message\\\":\\\"pulling image \\\"7a963f5a21854f4b9da93e0803c40845.azurecr.io/azureml/azureml_6ade10047ac278b9562561a856ae1185@sha256:fa05be79ea9f53de95679b5da22e2caeaeabf3dde4b3649d89ca0cd6d3f2c64f\\\"\\\",\\\"type\\\":\\\"Normal\\\"}\\n{\\\"count\\\":1,\\\"firstTimestamp\\\":\\\"2025-04-05T04:05:33Z\\\",\\\"lastTimestamp\\\":\\\"2025-04-05T04:05:33Z\\\",\\\"name\\\":\\\"Pulled\\\",\\\"message\\\":\\\"Successfully pulled image \\\"7a963f5a21854f4b9da93e0803c40845.azurecr.io/azureml/azureml_6ade10047ac278b9562561a856ae1185@sha256:fa05be79ea9f53de95679b5da22e2caeaeabf3dde4b3649d89ca0cd6d3f2c64f\\\"\\\",\\\"type\\\":\\\"Normal\\\"}\\n{\\\"count\\\":4,\\\"firstTimestamp\\\":\\\"2025-04-05T04:05:53Z\\\",\\\"lastTimestamp\\\":\\\"2025-04-05T04:07:24Z\\\",\\\"name\\\":\\\"Started\\\",\\\"message\\\":\\\"Started container\\\",\\\"type\\\":\\\"Normal\\\"}\\n{\\\"count\\\":3,\\\"firstTimestamp\\\":\\\"2025-04-05T04:06:01Z\\\",\\\"lastTimestamp\\\":\\\"2025-04-05T04:06:52Z\\\",\\\"name\\\":\\\"Killing\\\",\\\"message\\\":\\\"Container service terminated with ExitCode 111.\\\",\\\"type\\\":\\\"Normal\\\"}\\n\\\"\\n    }\\n  ]\\n}\"\n    }\n}"
     ]
    }
   ],
   "source": [
    "service.wait_for_deployment()"
   ]
  },
  {
   "cell_type": "code",
   "execution_count": null,
   "metadata": {},
   "outputs": [],
   "source": [
    "scoring_uri = service.scoring_uri\n",
    "\n",
    "scoreuri = json.dumps({\"URI\": [scoring_uri]})\n",
    "file = open(\"uri.json\", \"w\")\n",
    "file.write(scoreuri)\n",
    "file.close()"
   ]
  },
  {
   "cell_type": "code",
   "execution_count": null,
   "metadata": {},
   "outputs": [
    {
     "name": "stdout",
     "output_type": "stream",
     "text": [
      "None\n"
     ]
    }
   ],
   "source": [
    "print(scoring_uri)"
   ]
  }
 ],
 "metadata": {
  "kernelspec": {
   "display_name": ".venv",
   "language": "python",
   "name": "python3"
  },
  "language_info": {
   "codemirror_mode": {
    "name": "ipython",
    "version": 3
   },
   "file_extension": ".py",
   "mimetype": "text/x-python",
   "name": "python",
   "nbconvert_exporter": "python",
   "pygments_lexer": "ipython3",
   "version": "3.11.9"
  }
 },
 "nbformat": 4,
 "nbformat_minor": 2
}
