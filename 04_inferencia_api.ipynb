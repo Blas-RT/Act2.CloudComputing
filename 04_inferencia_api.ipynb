{
 "cells": [
  {
   "cell_type": "code",
   "execution_count": 1,
   "metadata": {},
   "outputs": [],
   "source": [
    "import pandas as pd\n",
    "import json\n",
    "import requests\n",
    "\n",
    "data = pd.read_csv(\"test_data.csv\").drop([\"Bankrupt?\"], axis=1)#(input_data)\n",
    "data_dict = data.to_dict(orient='list')"
   ]
  },
  {
   "cell_type": "code",
   "execution_count": null,
   "metadata": {},
   "outputs": [],
   "source": []
  },
  {
   "cell_type": "code",
   "execution_count": 2,
   "metadata": {},
   "outputs": [],
   "source": [
    "#Formateado para la API:\n",
    "data_json = json.dumps({\"data\": [data_dict]})\n",
    "\n",
    "suri = open(\"uri.json\", \"r\")\n",
    "scoring_uri = json.load(suri)[\"URI\"][0]\n",
    "suri.close()"
   ]
  },
  {
   "cell_type": "code",
   "execution_count": 4,
   "metadata": {},
   "outputs": [
    {
     "name": "stdout",
     "output_type": "stream",
     "text": [
      "{'result': [1, 1, 0, 1, 1, 1]}\n"
     ]
    },
    {
     "data": {
      "application/vnd.microsoft.datawrangler.viewer.v0+json": {
       "columns": [
        {
         "name": "index",
         "rawType": "int64",
         "type": "integer"
        },
        {
         "name": " Persistent EPS in the Last Four Seasons",
         "rawType": "float64",
         "type": "float"
        },
        {
         "name": " Debt ratio %",
         "rawType": "float64",
         "type": "float"
        },
        {
         "name": " Net worth/Assets",
         "rawType": "float64",
         "type": "float"
        },
        {
         "name": "Exited",
         "rawType": "int64",
         "type": "integer"
        }
       ],
       "conversionMethod": "pd.DataFrame",
       "ref": "336cb187-482a-47bb-968a-069e6847ede1",
       "rows": [
        [
         "0",
         "0.18606410135199",
         "0.220334371315416",
         "0.779665628684584",
         "1"
        ],
        [
         "1",
         "0.178405975229271",
         "0.236418054841733",
         "0.763581945158267",
         "1"
        ],
        [
         "2",
         "0.224260187198639",
         "0.0646370589835838",
         "0.935362941016416",
         "0"
        ],
        [
         "3",
         "0.163656991585516",
         "0.201348368957282",
         "0.798651631042719",
         "1"
        ],
        [
         "4",
         "0.10182471400208",
         "0.292590017232518",
         "0.707409982767482",
         "1"
        ],
        [
         "5",
         "0.199962182093221",
         "0.196994890709557",
         "0.803005109290444",
         "1"
        ]
       ],
       "shape": {
        "columns": 4,
        "rows": 6
       }
      },
      "text/html": [
       "<div>\n",
       "<style scoped>\n",
       "    .dataframe tbody tr th:only-of-type {\n",
       "        vertical-align: middle;\n",
       "    }\n",
       "\n",
       "    .dataframe tbody tr th {\n",
       "        vertical-align: top;\n",
       "    }\n",
       "\n",
       "    .dataframe thead th {\n",
       "        text-align: right;\n",
       "    }\n",
       "</style>\n",
       "<table border=\"1\" class=\"dataframe\">\n",
       "  <thead>\n",
       "    <tr style=\"text-align: right;\">\n",
       "      <th></th>\n",
       "      <th>Persistent EPS in the Last Four Seasons</th>\n",
       "      <th>Debt ratio %</th>\n",
       "      <th>Net worth/Assets</th>\n",
       "      <th>Exited</th>\n",
       "    </tr>\n",
       "  </thead>\n",
       "  <tbody>\n",
       "    <tr>\n",
       "      <th>0</th>\n",
       "      <td>0.186064</td>\n",
       "      <td>0.220334</td>\n",
       "      <td>0.779666</td>\n",
       "      <td>1</td>\n",
       "    </tr>\n",
       "    <tr>\n",
       "      <th>1</th>\n",
       "      <td>0.178406</td>\n",
       "      <td>0.236418</td>\n",
       "      <td>0.763582</td>\n",
       "      <td>1</td>\n",
       "    </tr>\n",
       "    <tr>\n",
       "      <th>2</th>\n",
       "      <td>0.224260</td>\n",
       "      <td>0.064637</td>\n",
       "      <td>0.935363</td>\n",
       "      <td>0</td>\n",
       "    </tr>\n",
       "    <tr>\n",
       "      <th>3</th>\n",
       "      <td>0.163657</td>\n",
       "      <td>0.201348</td>\n",
       "      <td>0.798652</td>\n",
       "      <td>1</td>\n",
       "    </tr>\n",
       "    <tr>\n",
       "      <th>4</th>\n",
       "      <td>0.101825</td>\n",
       "      <td>0.292590</td>\n",
       "      <td>0.707410</td>\n",
       "      <td>1</td>\n",
       "    </tr>\n",
       "    <tr>\n",
       "      <th>5</th>\n",
       "      <td>0.199962</td>\n",
       "      <td>0.196995</td>\n",
       "      <td>0.803005</td>\n",
       "      <td>1</td>\n",
       "    </tr>\n",
       "  </tbody>\n",
       "</table>\n",
       "</div>"
      ],
      "text/plain": [
       "    Persistent EPS in the Last Four Seasons   Debt ratio %   Net worth/Assets  \\\n",
       "0                                  0.186064       0.220334           0.779666   \n",
       "1                                  0.178406       0.236418           0.763582   \n",
       "2                                  0.224260       0.064637           0.935363   \n",
       "3                                  0.163657       0.201348           0.798652   \n",
       "4                                  0.101825       0.292590           0.707410   \n",
       "5                                  0.199962       0.196995           0.803005   \n",
       "\n",
       "   Exited  \n",
       "0       1  \n",
       "1       1  \n",
       "2       0  \n",
       "3       1  \n",
       "4       1  \n",
       "5       1  "
      ]
     },
     "metadata": {},
     "output_type": "display_data"
    }
   ],
   "source": [
    "#Formateado para la API:\n",
    "data_json = json.dumps({\"data\": [data_dict]})\n",
    "\n",
    "suri = open(\"uri.json\", \"r\")\n",
    "scoring_uri = json.load(suri)[\"URI\"][0]\n",
    "suri.close()\n",
    "## La API per-sé:\n",
    "\n",
    "headers = {\"Content-Type\": \"application/json\"}\n",
    "\n",
    "response = requests.post(scoring_uri, data=data_json, headers=headers)\n",
    "\n",
    "if response.status_code == 200:\n",
    "  result = json.loads(response.json())\n",
    "  print(result)\n",
    "  data[\"Exited\"] = result[\"result\"]\n",
    "  display(data)\n",
    "else:\n",
    "  print(f\"Error: {response.text}\")"
   ]
  }
 ],
 "metadata": {
  "kernelspec": {
   "display_name": ".venv",
   "language": "python",
   "name": "python3"
  },
  "language_info": {
   "codemirror_mode": {
    "name": "ipython",
    "version": 3
   },
   "file_extension": ".py",
   "mimetype": "text/x-python",
   "name": "python",
   "nbconvert_exporter": "python",
   "pygments_lexer": "ipython3",
   "version": "3.11.9"
  }
 },
 "nbformat": 4,
 "nbformat_minor": 2
}
